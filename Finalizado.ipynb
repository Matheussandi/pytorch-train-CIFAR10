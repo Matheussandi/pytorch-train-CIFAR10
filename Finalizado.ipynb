{
  "nbformat": 4,
  "nbformat_minor": 0,
  "metadata": {
    "kernelspec": {
      "display_name": "Python 3",
      "name": "python3"
    },
    "language_info": {
      "codemirror_mode": {
        "name": "ipython",
        "version": 3
      },
      "file_extension": ".py",
      "mimetype": "text/x-python",
      "name": "python",
      "nbconvert_exporter": "python",
      "pygments_lexer": "ipython3",
      "version": "3.6.6"
    },
    "colab": {
      "provenance": [],
      "gpuType": "T4"
    },
    "accelerator": "GPU"
  },
  "cells": [
    {
      "cell_type": "markdown",
      "source": [
        "Lucas da Silva Souza Correa - 202010408 <br />\n",
        "Mateus Lucas - 202010520 <br />\n",
        "Gabriel Almeida - 202010403 <br />\n",
        "Matheus Sandi Vieira da Silva - 202010411"
      ],
      "metadata": {
        "id": "CyQs1JM4Efr5"
      }
    },
    {
      "cell_type": "code",
      "metadata": {
        "id": "6nS6dEshJodk"
      },
      "source": [
        "%matplotlib inline"
      ],
      "execution_count": 1,
      "outputs": []
    },
    {
      "cell_type": "code",
      "metadata": {
        "id": "3G1R30QRJodt"
      },
      "source": [
        "import torch\n",
        "import torchvision\n",
        "import torchvision.transforms as transforms"
      ],
      "execution_count": 2,
      "outputs": []
    },
    {
      "cell_type": "markdown",
      "metadata": {
        "id": "kSE1cD4pJodx"
      },
      "source": [
        "A saída dos conjuntos de dados da visão da tocha são imagens PILImage do intervalo [0, 1]. Nós os transformamos em tensores de faixa normalizada [-1, 1]."
      ]
    },
    {
      "cell_type": "code",
      "metadata": {
        "id": "4EMTdFXJJody",
        "colab": {
          "base_uri": "https://localhost:8080/"
        },
        "outputId": "3931c214-870e-4dae-e8ec-38463c48274a"
      },
      "source": [
        "transform = transforms.Compose(\n",
        "    [transforms.ToTensor(),\n",
        "     transforms.Normalize((0.5, 0.5, 0.5), (0.5, 0.5, 0.5))])\n",
        "\n",
        "trainset = torchvision.datasets.CIFAR10(root='./data', train=True,\n",
        "                                        download=True, transform=transform)\n",
        "trainloader = torch.utils.data.DataLoader(trainset, batch_size=4,\n",
        "                                          shuffle=True, num_workers=2)\n",
        "\n",
        "testset = torchvision.datasets.CIFAR10(root='./data', train=False,\n",
        "                                       download=True, transform=transform)\n",
        "testloader = torch.utils.data.DataLoader(testset, batch_size=4,\n",
        "                                         shuffle=True, num_workers=2)\n",
        "\n",
        "classes = ('plane', 'car', 'bird', 'cat',\n",
        "           'deer', 'dog', 'frog', 'horse', 'ship', 'truck')"
      ],
      "execution_count": 3,
      "outputs": [
        {
          "output_type": "stream",
          "name": "stdout",
          "text": [
            "Downloading https://www.cs.toronto.edu/~kriz/cifar-10-python.tar.gz to ./data/cifar-10-python.tar.gz\n"
          ]
        },
        {
          "output_type": "stream",
          "name": "stderr",
          "text": [
            "100%|██████████| 170498071/170498071 [00:12<00:00, 13342314.67it/s]\n"
          ]
        },
        {
          "output_type": "stream",
          "name": "stdout",
          "text": [
            "Extracting ./data/cifar-10-python.tar.gz to ./data\n",
            "Files already downloaded and verified\n"
          ]
        }
      ]
    },
    {
      "cell_type": "markdown",
      "metadata": {
        "id": "f-5_36pOJod1"
      },
      "source": [
        "Vamos ver algumas imagens só por diversão"
      ]
    },
    {
      "cell_type": "code",
      "metadata": {
        "id": "aVRXUgvAJod2",
        "colab": {
          "base_uri": "https://localhost:8080/",
          "height": 210
        },
        "outputId": "aa63dfa6-a537-4da7-bfa4-e69703bffaca"
      },
      "source": [
        "import matplotlib.pyplot as plt\n",
        "import numpy as np\n",
        "\n",
        "# functions to show an image\n",
        "\n",
        "\n",
        "def imshow(img):\n",
        "    img = img / 2 + 0.5     # unnormalize\n",
        "    npimg = img.numpy()\n",
        "    plt.imshow(np.transpose(npimg, (1, 2, 0)))\n",
        "\n",
        "\n",
        "# get some random training images\n",
        "dataiter = iter(trainloader)\n",
        "images, labels = next(dataiter)\n",
        "\n",
        "# show images\n",
        "imshow(torchvision.utils.make_grid(images))\n",
        "# print labels\n",
        "print(' '.join('%5s' % classes[labels[j]] for j in range(4)))"
      ],
      "execution_count": 4,
      "outputs": [
        {
          "output_type": "stream",
          "name": "stdout",
          "text": [
            "  car  deer  bird  deer\n"
          ]
        },
        {
          "output_type": "display_data",
          "data": {
            "text/plain": [
              "<Figure size 640x480 with 1 Axes>"
            ],
            "image/png": "[encoded data removed]"
          },
          "metadata": {}
        }
      ]
    },
    {
      "cell_type": "markdown",
      "metadata": {
        "id": "4W_1upN5Jod4"
      },
      "source": [
        "2. Definir uma rede neural de convolução ^^^^^^^^^^^^^^^^^^^^^^^^^^^^^^^^^^^^^^^^^^^^^^^^^^^^^^^\n",
        "Copie a rede neural antes e modifique-a para capturar imagens de 3 canais (em vez de imagens de 1 canal, conforme definido).\n",
        "\n"
      ]
    },
    {
      "cell_type": "code",
      "metadata": {
        "id": "58zEiGqWJod5"
      },
      "source": [
        "import torch.nn as nn\n",
        "import torch.nn.functional as F\n",
        "\n",
        "class Net(nn.Module):\n",
        "    def __init__(self):\n",
        "        super(Net, self).__init__()\n",
        "        self.conv1 = nn.Conv2d(3, 16, 3)\n",
        "        self.pool = nn.MaxPool2d(2, 2)\n",
        "        self.conv2 = nn.Conv2d(16, 16, 5)\n",
        "        self.fc1 = nn.Linear(16 * 5 * 5, 256)  # Aumenta o número de neurônios na primeira camada totalmente conectada\n",
        "        self.fc2 = nn.Linear(256, 128)         # Diminui o número de neurônios na segunda camada totalmente conectada\n",
        "        self.fc3 = nn.Linear(128, 84)          # Altera o número de neurônios na terceira camada totalmente conectada\n",
        "        self.fc4 = nn.Linear(84, 10)           # Adiciona uma nova camada totalmente conectada\n",
        "\n",
        "    def forward(self, x):\n",
        "        x = self.pool(F.relu(self.conv1(x)))\n",
        "        x = self.pool(F.relu(self.conv2(x)))\n",
        "        x = x.view(-1, 16 * 5 * 5)\n",
        "        x = F.relu(self.fc1(x))\n",
        "        x = F.relu(self.fc2(x))\n",
        "        x = F.relu(self.fc3(x))  # Usa uma função de ativação diferente para esta camada\n",
        "        x = self.fc4(x)          # Camada de saída sem função de ativação\n",
        "        return x\n",
        "\n",
        "net = Net()\n"
      ],
      "execution_count": 24,
      "outputs": []
    },
    {
      "cell_type": "markdown",
      "metadata": {
        "id": "-ezBdA-7Jod8"
      },
      "source": [
        "3. Definir uma função de perda e otimizador ^^^^^^^^^^^^^^^^^^^^^^^^^^^^^^^^^^^^^^^^^^^^^^^^^^^^^^^^^\n"
      ]
    },
    {
      "cell_type": "code",
      "metadata": {
        "id": "SbnMovSoJod9"
      },
      "source": [
        "import torch.optim as optim\n",
        "\n",
        "criterion = nn.CrossEntropyLoss()\n",
        "optimizer = optim.SGD(net.parameters(), lr=0.001, momentum=0.9)"
      ],
      "execution_count": 6,
      "outputs": []
    },
    {
      "cell_type": "markdown",
      "metadata": {
        "id": "gmvsJEAGJod_"
      },
      "source": [
        "4. Train the network\n",
        "^^^^^^^^^^^^^^^^^^^^\n",
        "\n",
        "Aqui é quando os pesos começam a ser otimizados:\n",
        "\n"
      ]
    },
    {
      "cell_type": "code",
      "metadata": {
        "id": "uY3I9gqqJoeA",
        "colab": {
          "base_uri": "https://localhost:8080/"
        },
        "outputId": "a4cf2df9-a68a-4016-e50f-ae229d7c750c"
      },
      "source": [
        "for epoch in range(5):  # loop over the dataset multiple times\n",
        "\n",
        "    running_loss = 0.0\n",
        "    for i, data in enumerate(trainloader, 0):\n",
        "        # get the inputs\n",
        "        inputs, labels = data\n",
        "\n",
        "        # zero the parameter gradients\n",
        "        optimizer.zero_grad()\n",
        "\n",
        "        # forward + backward + optimize\n",
        "        outputs = net(inputs)\n",
        "        loss = criterion(outputs, labels)\n",
        "        loss.backward()\n",
        "        optimizer.step()\n",
        "\n",
        "        # print statistics\n",
        "        running_loss += loss.item()\n",
        "        if i % 200 == 0:    # print every 2000 mini-batches\n",
        "            print('[%d, %5d] loss: %.3f' %\n",
        "                  (epoch + 1, i + 1, running_loss / 2000))\n",
        "            running_loss = 0.0\n",
        "\n",
        "print('Finished Training')"
      ],
      "execution_count": 19,
      "outputs": [
        {
          "output_type": "stream",
          "name": "stdout",
          "text": [
            "[1,     1] loss: 0.000\n",
            "[1,   201] loss: 0.050\n",
            "[1,   401] loss: 0.050\n",
            "[1,   601] loss: 0.046\n",
            "[1,   801] loss: 0.049\n",
            "[1,  1001] loss: 0.054\n",
            "[1,  1201] loss: 0.048\n",
            "[1,  1401] loss: 0.047\n",
            "[1,  1601] loss: 0.056\n",
            "[1,  1801] loss: 0.058\n",
            "[1,  2001] loss: 0.056\n",
            "[1,  2201] loss: 0.056\n",
            "[1,  2401] loss: 0.049\n",
            "[1,  2601] loss: 0.063\n",
            "[1,  2801] loss: 0.064\n",
            "[1,  3001] loss: 0.064\n",
            "[1,  3201] loss: 0.056\n",
            "[1,  3401] loss: 0.062\n",
            "[1,  3601] loss: 0.051\n",
            "[1,  3801] loss: 0.057\n",
            "[1,  4001] loss: 0.055\n",
            "[1,  4201] loss: 0.056\n",
            "[1,  4401] loss: 0.060\n",
            "[1,  4601] loss: 0.061\n",
            "[1,  4801] loss: 0.060\n",
            "[1,  5001] loss: 0.061\n",
            "[1,  5201] loss: 0.060\n",
            "[1,  5401] loss: 0.060\n",
            "[1,  5601] loss: 0.064\n",
            "[1,  5801] loss: 0.056\n",
            "[1,  6001] loss: 0.059\n",
            "[1,  6201] loss: 0.065\n",
            "[1,  6401] loss: 0.064\n",
            "[1,  6601] loss: 0.062\n",
            "[1,  6801] loss: 0.061\n",
            "[1,  7001] loss: 0.061\n",
            "[1,  7201] loss: 0.060\n",
            "[1,  7401] loss: 0.065\n",
            "[1,  7601] loss: 0.062\n",
            "[1,  7801] loss: 0.063\n",
            "[1,  8001] loss: 0.061\n",
            "[1,  8201] loss: 0.068\n",
            "[1,  8401] loss: 0.058\n",
            "[1,  8601] loss: 0.067\n",
            "[1,  8801] loss: 0.066\n",
            "[1,  9001] loss: 0.067\n",
            "[1,  9201] loss: 0.065\n",
            "[1,  9401] loss: 0.063\n",
            "[1,  9601] loss: 0.066\n",
            "[1,  9801] loss: 0.058\n",
            "[1, 10001] loss: 0.064\n",
            "[1, 10201] loss: 0.060\n",
            "[1, 10401] loss: 0.063\n",
            "[1, 10601] loss: 0.067\n",
            "[1, 10801] loss: 0.064\n",
            "[1, 11001] loss: 0.058\n",
            "[1, 11201] loss: 0.064\n",
            "[1, 11401] loss: 0.064\n",
            "[1, 11601] loss: 0.063\n",
            "[1, 11801] loss: 0.065\n",
            "[1, 12001] loss: 0.062\n",
            "[1, 12201] loss: 0.062\n",
            "[1, 12401] loss: 0.058\n",
            "[2,     1] loss: 0.000\n",
            "[2,   201] loss: 0.051\n",
            "[2,   401] loss: 0.049\n",
            "[2,   601] loss: 0.046\n",
            "[2,   801] loss: 0.047\n",
            "[2,  1001] loss: 0.051\n",
            "[2,  1201] loss: 0.046\n",
            "[2,  1401] loss: 0.057\n",
            "[2,  1601] loss: 0.049\n",
            "[2,  1801] loss: 0.054\n",
            "[2,  2001] loss: 0.052\n",
            "[2,  2201] loss: 0.051\n",
            "[2,  2401] loss: 0.056\n",
            "[2,  2601] loss: 0.050\n",
            "[2,  2801] loss: 0.053\n",
            "[2,  3001] loss: 0.056\n",
            "[2,  3201] loss: 0.060\n",
            "[2,  3401] loss: 0.053\n",
            "[2,  3601] loss: 0.051\n",
            "[2,  3801] loss: 0.057\n",
            "[2,  4001] loss: 0.061\n",
            "[2,  4201] loss: 0.057\n",
            "[2,  4401] loss: 0.053\n",
            "[2,  4601] loss: 0.054\n",
            "[2,  4801] loss: 0.060\n",
            "[2,  5001] loss: 0.059\n",
            "[2,  5201] loss: 0.056\n",
            "[2,  5401] loss: 0.056\n",
            "[2,  5601] loss: 0.055\n",
            "[2,  5801] loss: 0.056\n",
            "[2,  6001] loss: 0.057\n",
            "[2,  6201] loss: 0.058\n",
            "[2,  6401] loss: 0.063\n",
            "[2,  6601] loss: 0.065\n",
            "[2,  6801] loss: 0.054\n",
            "[2,  7001] loss: 0.051\n",
            "[2,  7201] loss: 0.055\n",
            "[2,  7401] loss: 0.053\n",
            "[2,  7601] loss: 0.058\n",
            "[2,  7801] loss: 0.058\n",
            "[2,  8001] loss: 0.060\n",
            "[2,  8201] loss: 0.060\n",
            "[2,  8401] loss: 0.057\n",
            "[2,  8601] loss: 0.056\n",
            "[2,  8801] loss: 0.056\n",
            "[2,  9001] loss: 0.051\n",
            "[2,  9201] loss: 0.061\n",
            "[2,  9401] loss: 0.061\n",
            "[2,  9601] loss: 0.059\n",
            "[2,  9801] loss: 0.058\n",
            "[2, 10001] loss: 0.062\n",
            "[2, 10201] loss: 0.063\n",
            "[2, 10401] loss: 0.060\n",
            "[2, 10601] loss: 0.060\n",
            "[2, 10801] loss: 0.056\n",
            "[2, 11001] loss: 0.059\n",
            "[2, 11201] loss: 0.055\n",
            "[2, 11401] loss: 0.053\n",
            "[2, 11601] loss: 0.065\n",
            "[2, 11801] loss: 0.060\n",
            "[2, 12001] loss: 0.062\n",
            "[2, 12201] loss: 0.062\n",
            "[2, 12401] loss: 0.059\n",
            "[3,     1] loss: 0.000\n",
            "[3,   201] loss: 0.047\n",
            "[3,   401] loss: 0.047\n",
            "[3,   601] loss: 0.046\n",
            "[3,   801] loss: 0.045\n",
            "[3,  1001] loss: 0.044\n",
            "[3,  1201] loss: 0.051\n",
            "[3,  1401] loss: 0.050\n",
            "[3,  1601] loss: 0.048\n",
            "[3,  1801] loss: 0.050\n",
            "[3,  2001] loss: 0.044\n",
            "[3,  2201] loss: 0.050\n",
            "[3,  2401] loss: 0.053\n",
            "[3,  2601] loss: 0.046\n",
            "[3,  2801] loss: 0.053\n",
            "[3,  3001] loss: 0.049\n",
            "[3,  3201] loss: 0.050\n",
            "[3,  3401] loss: 0.050\n",
            "[3,  3601] loss: 0.051\n",
            "[3,  3801] loss: 0.047\n",
            "[3,  4001] loss: 0.050\n",
            "[3,  4201] loss: 0.056\n",
            "[3,  4401] loss: 0.052\n",
            "[3,  4601] loss: 0.056\n",
            "[3,  4801] loss: 0.048\n",
            "[3,  5001] loss: 0.055\n",
            "[3,  5201] loss: 0.050\n",
            "[3,  5401] loss: 0.056\n",
            "[3,  5601] loss: 0.053\n",
            "[3,  5801] loss: 0.052\n",
            "[3,  6001] loss: 0.045\n",
            "[3,  6201] loss: 0.057\n",
            "[3,  6401] loss: 0.058\n",
            "[3,  6601] loss: 0.048\n",
            "[3,  6801] loss: 0.058\n",
            "[3,  7001] loss: 0.052\n",
            "[3,  7201] loss: 0.052\n",
            "[3,  7401] loss: 0.054\n",
            "[3,  7601] loss: 0.054\n",
            "[3,  7801] loss: 0.058\n",
            "[3,  8001] loss: 0.061\n",
            "[3,  8201] loss: 0.046\n",
            "[3,  8401] loss: 0.049\n",
            "[3,  8601] loss: 0.053\n",
            "[3,  8801] loss: 0.047\n",
            "[3,  9001] loss: 0.053\n",
            "[3,  9201] loss: 0.058\n",
            "[3,  9401] loss: 0.055\n",
            "[3,  9601] loss: 0.057\n",
            "[3,  9801] loss: 0.053\n",
            "[3, 10001] loss: 0.051\n",
            "[3, 10201] loss: 0.056\n",
            "[3, 10401] loss: 0.050\n",
            "[3, 10601] loss: 0.060\n",
            "[3, 10801] loss: 0.062\n",
            "[3, 11001] loss: 0.054\n",
            "[3, 11201] loss: 0.057\n",
            "[3, 11401] loss: 0.055\n",
            "[3, 11601] loss: 0.057\n",
            "[3, 11801] loss: 0.055\n",
            "[3, 12001] loss: 0.056\n",
            "[3, 12201] loss: 0.059\n",
            "[3, 12401] loss: 0.061\n",
            "[4,     1] loss: 0.001\n",
            "[4,   201] loss: 0.043\n",
            "[4,   401] loss: 0.040\n",
            "[4,   601] loss: 0.041\n",
            "[4,   801] loss: 0.039\n",
            "[4,  1001] loss: 0.040\n",
            "[4,  1201] loss: 0.043\n",
            "[4,  1401] loss: 0.048\n",
            "[4,  1601] loss: 0.044\n",
            "[4,  1801] loss: 0.047\n",
            "[4,  2001] loss: 0.044\n",
            "[4,  2201] loss: 0.042\n",
            "[4,  2401] loss: 0.050\n",
            "[4,  2601] loss: 0.042\n",
            "[4,  2801] loss: 0.050\n",
            "[4,  3001] loss: 0.047\n",
            "[4,  3201] loss: 0.049\n",
            "[4,  3401] loss: 0.045\n",
            "[4,  3601] loss: 0.044\n",
            "[4,  3801] loss: 0.040\n",
            "[4,  4001] loss: 0.052\n",
            "[4,  4201] loss: 0.051\n",
            "[4,  4401] loss: 0.054\n",
            "[4,  4601] loss: 0.049\n",
            "[4,  4801] loss: 0.048\n",
            "[4,  5001] loss: 0.049\n",
            "[4,  5201] loss: 0.048\n",
            "[4,  5401] loss: 0.047\n",
            "[4,  5601] loss: 0.051\n",
            "[4,  5801] loss: 0.051\n",
            "[4,  6001] loss: 0.047\n",
            "[4,  6201] loss: 0.045\n",
            "[4,  6401] loss: 0.052\n",
            "[4,  6601] loss: 0.056\n",
            "[4,  6801] loss: 0.052\n",
            "[4,  7001] loss: 0.047\n",
            "[4,  7201] loss: 0.048\n",
            "[4,  7401] loss: 0.049\n",
            "[4,  7601] loss: 0.053\n",
            "[4,  7801] loss: 0.054\n",
            "[4,  8001] loss: 0.055\n",
            "[4,  8201] loss: 0.056\n",
            "[4,  8401] loss: 0.047\n",
            "[4,  8601] loss: 0.051\n",
            "[4,  8801] loss: 0.054\n",
            "[4,  9001] loss: 0.052\n",
            "[4,  9201] loss: 0.051\n",
            "[4,  9401] loss: 0.054\n",
            "[4,  9601] loss: 0.055\n",
            "[4,  9801] loss: 0.056\n",
            "[4, 10001] loss: 0.050\n",
            "[4, 10201] loss: 0.055\n",
            "[4, 10401] loss: 0.048\n",
            "[4, 10601] loss: 0.053\n",
            "[4, 10801] loss: 0.056\n",
            "[4, 11001] loss: 0.047\n",
            "[4, 11201] loss: 0.053\n",
            "[4, 11401] loss: 0.057\n",
            "[4, 11601] loss: 0.053\n",
            "[4, 11801] loss: 0.061\n",
            "[4, 12001] loss: 0.054\n",
            "[4, 12201] loss: 0.052\n",
            "[4, 12401] loss: 0.056\n",
            "[5,     1] loss: 0.000\n",
            "[5,   201] loss: 0.039\n",
            "[5,   401] loss: 0.037\n",
            "[5,   601] loss: 0.035\n",
            "[5,   801] loss: 0.040\n",
            "[5,  1001] loss: 0.051\n",
            "[5,  1201] loss: 0.045\n",
            "[5,  1401] loss: 0.042\n",
            "[5,  1601] loss: 0.034\n",
            "[5,  1801] loss: 0.046\n",
            "[5,  2001] loss: 0.043\n",
            "[5,  2201] loss: 0.042\n",
            "[5,  2401] loss: 0.044\n",
            "[5,  2601] loss: 0.037\n",
            "[5,  2801] loss: 0.047\n",
            "[5,  3001] loss: 0.046\n",
            "[5,  3201] loss: 0.046\n",
            "[5,  3401] loss: 0.047\n",
            "[5,  3601] loss: 0.042\n",
            "[5,  3801] loss: 0.041\n",
            "[5,  4001] loss: 0.045\n",
            "[5,  4201] loss: 0.043\n",
            "[5,  4401] loss: 0.045\n",
            "[5,  4601] loss: 0.046\n",
            "[5,  4801] loss: 0.051\n",
            "[5,  5001] loss: 0.055\n",
            "[5,  5201] loss: 0.045\n",
            "[5,  5401] loss: 0.042\n",
            "[5,  5601] loss: 0.052\n",
            "[5,  5801] loss: 0.051\n",
            "[5,  6001] loss: 0.053\n",
            "[5,  6201] loss: 0.047\n",
            "[5,  6401] loss: 0.050\n",
            "[5,  6601] loss: 0.050\n",
            "[5,  6801] loss: 0.047\n",
            "[5,  7001] loss: 0.050\n",
            "[5,  7201] loss: 0.052\n",
            "[5,  7401] loss: 0.051\n",
            "[5,  7601] loss: 0.051\n",
            "[5,  7801] loss: 0.045\n",
            "[5,  8001] loss: 0.042\n",
            "[5,  8201] loss: 0.048\n",
            "[5,  8401] loss: 0.048\n",
            "[5,  8601] loss: 0.050\n",
            "[5,  8801] loss: 0.047\n",
            "[5,  9001] loss: 0.045\n",
            "[5,  9201] loss: 0.062\n",
            "[5,  9401] loss: 0.052\n",
            "[5,  9601] loss: 0.047\n",
            "[5,  9801] loss: 0.050\n",
            "[5, 10001] loss: 0.042\n",
            "[5, 10201] loss: 0.052\n",
            "[5, 10401] loss: 0.055\n",
            "[5, 10601] loss: 0.055\n",
            "[5, 10801] loss: 0.047\n",
            "[5, 11001] loss: 0.051\n",
            "[5, 11201] loss: 0.053\n",
            "[5, 11401] loss: 0.048\n",
            "[5, 11601] loss: 0.046\n",
            "[5, 11801] loss: 0.048\n",
            "[5, 12001] loss: 0.052\n",
            "[5, 12201] loss: 0.052\n",
            "[5, 12401] loss: 0.054\n",
            "Finished Training\n"
          ]
        }
      ]
    },
    {
      "cell_type": "markdown",
      "metadata": {
        "id": "fjoDjOYIJoeC"
      },
      "source": [
        "5. Testando a rede em dados de teste:\n",
        "^^^^^^^^^^^^^^^^^^^^^^^^^^^^^^^^^^^^\n",
        "\n",
        "Treinamos a rede por 2 épocas. Temos que checar se ela aprendeu:\n",
        "\n"
      ]
    },
    {
      "cell_type": "code",
      "metadata": {
        "id": "sDJlPPmzJoeD",
        "colab": {
          "base_uri": "https://localhost:8080/",
          "height": 210
        },
        "outputId": "c3853001-ae6d-453d-896e-d97681e7fe56"
      },
      "source": [
        "dataiter = iter(testloader)\n",
        "images, labels = next(dataiter)\n",
        "\n",
        "# print images\n",
        "imshow(torchvision.utils.make_grid(images))\n",
        "print('GroundTruth: ', ' '.join('%5s' % classes[labels[j]] for j in range(4)))"
      ],
      "execution_count": 21,
      "outputs": [
        {
          "output_type": "stream",
          "name": "stdout",
          "text": [
            "GroundTruth:   ship horse  bird   dog\n"
          ]
        },
        {
          "output_type": "display_data",
          "data": {
            "text/plain": [
              "<Figure size 640x480 with 1 Axes>"
            ],
            "image/png": "[encoded data removed]"
          },
          "metadata": {}
        }
      ]
    },
    {
      "cell_type": "markdown",
      "metadata": {
        "id": "97HlB9duJoeG"
      },
      "source": [
        "\n",
        "Ok, agora vamos ver o que a rede neural pensa que esses exemplos acima são:"
      ]
    },
    {
      "cell_type": "code",
      "metadata": {
        "id": "7zz1Jyg2JoeH"
      },
      "source": [
        "outputs = net(images)"
      ],
      "execution_count": 22,
      "outputs": []
    },
    {
      "cell_type": "markdown",
      "metadata": {
        "id": "lyyPM5nQJoeJ"
      },
      "source": [
        "As saídas são energias para as 10 classes. Quanto maior a energia de uma classe, mais a rede pensa que a imagem é da classe específica. Então, vamos obter o índice da energia mais alta:"
      ]
    },
    {
      "cell_type": "code",
      "metadata": {
        "id": "pmBMtVzYJoeK",
        "colab": {
          "base_uri": "https://localhost:8080/"
        },
        "outputId": "7828949d-476e-48e6-b0dd-ea906f515b6b"
      },
      "source": [
        "_, predicted = torch.max(outputs, 1)\n",
        "\n",
        "print('Predicted: ', ' '.join('%5s' % classes[predicted[j]]\n",
        "                              for j in range(4)))"
      ],
      "execution_count": 23,
      "outputs": [
        {
          "output_type": "stream",
          "name": "stdout",
          "text": [
            "Predicted:   ship horse  bird   dog\n"
          ]
        }
      ]
    }
  ]
}